{
 "cells": [
  {
   "cell_type": "markdown",
   "metadata": {},
   "source": [
    "# Exploring data files"
   ]
  },
  {
   "cell_type": "code",
   "execution_count": 1,
   "metadata": {},
   "outputs": [],
   "source": [
    "import pandas as pd\n",
    "import xml.etree.ElementTree as et\n",
    "import html\n",
    "import os\n",
    "import numpy as np\n",
    "import textstat"
   ]
  },
  {
   "cell_type": "markdown",
   "metadata": {},
   "source": [
    "## Loading data"
   ]
  },
  {
   "cell_type": "code",
   "execution_count": 2,
   "metadata": {},
   "outputs": [],
   "source": [
    "items = os.listdir(r\"C:\\Users\\Sten\\Documents\\EUR BIM\\thesis\\data\\PAN 15\\pan15-author-profiling-training-dataset-2015-04-23\\pan15-author-profiling-training-dataset-english-2015-04-23\")\n",
    "documents = [item for item in items if item.endswith('.xml')]"
   ]
  },
  {
   "cell_type": "code",
   "execution_count": 3,
   "metadata": {},
   "outputs": [],
   "source": [
    "data_pan15 = pd.DataFrame(columns=['author', 'text'])"
   ]
  },
  {
   "cell_type": "code",
   "execution_count": 4,
   "metadata": {},
   "outputs": [],
   "source": [
    "for file in documents:\n",
    "    xtree = et.parse(r\"C:\\Users\\Sten\\Documents\\EUR BIM\\thesis\\data\\PAN 15\\pan15-author-profiling-training-dataset-2015-04-23\\pan15-author-profiling-training-dataset-english-2015-04-23\" + \"\\\\\" + file)\n",
    "    xroot = xtree.getroot()\n",
    "    documents_texts = [html.unescape(doc.text) for doc in xroot.findall(\".//document\")]\n",
    "    temp_frame = pd.DataFrame(documents_texts, columns=['text'])\n",
    "    temp_frame['author'] = file.replace('.xml', '')\n",
    "    data_pan15 = pd.concat([data_pan15, temp_frame], axis=0).reset_index(drop=True)    "
   ]
  },
  {
   "cell_type": "code",
   "execution_count": 5,
   "metadata": {},
   "outputs": [],
   "source": [
    "truth_pan15 = pd.read_csv(r'C:\\Users\\Sten\\Documents\\EUR BIM\\thesis\\data\\PAN 15\\pan15-author-profiling-training-dataset-2015-04-23\\pan15-author-profiling-training-dataset-english-2015-04-23\\truth.txt',\n",
    "                          delimiter=':::', engine='python', header=None)\n",
    "truth_pan15.columns = ['author', 'gender', 'age', 'extroverted', 'stable', 'agreeable', 'conscientious', 'open']"
   ]
  },
  {
   "cell_type": "code",
   "execution_count": 6,
   "metadata": {},
   "outputs": [],
   "source": [
    "data_pan15 = pd.merge(data_pan15, truth_pan15[['author', 'gender', 'age']], on='author', how='left')"
   ]
  },
  {
   "cell_type": "code",
   "execution_count": 7,
   "metadata": {},
   "outputs": [
    {
     "data": {
      "text/html": [
       "<div>\n",
       "<style scoped>\n",
       "    .dataframe tbody tr th:only-of-type {\n",
       "        vertical-align: middle;\n",
       "    }\n",
       "\n",
       "    .dataframe tbody tr th {\n",
       "        vertical-align: top;\n",
       "    }\n",
       "\n",
       "    .dataframe thead th {\n",
       "        text-align: right;\n",
       "    }\n",
       "</style>\n",
       "<table border=\"1\" class=\"dataframe\">\n",
       "  <thead>\n",
       "    <tr style=\"text-align: right;\">\n",
       "      <th></th>\n",
       "      <th>author</th>\n",
       "      <th>text</th>\n",
       "      <th>gender</th>\n",
       "      <th>age</th>\n",
       "    </tr>\n",
       "  </thead>\n",
       "  <tbody>\n",
       "    <tr>\n",
       "      <th>0</th>\n",
       "      <td>02ae95de-7ee3-453a-978d-25d28b3f1a88</td>\n",
       "      <td>Things I want for my business cards but are to...</td>\n",
       "      <td>M</td>\n",
       "      <td>25-34</td>\n",
       "    </tr>\n",
       "    <tr>\n",
       "      <th>1</th>\n",
       "      <td>02ae95de-7ee3-453a-978d-25d28b3f1a88</td>\n",
       "      <td>\"painters produced their most highly valued wo...</td>\n",
       "      <td>M</td>\n",
       "      <td>25-34</td>\n",
       "    </tr>\n",
       "    <tr>\n",
       "      <th>2</th>\n",
       "      <td>02ae95de-7ee3-453a-978d-25d28b3f1a88</td>\n",
       "      <td>@username your new discussion layout is confus...</td>\n",
       "      <td>M</td>\n",
       "      <td>25-34</td>\n",
       "    </tr>\n",
       "    <tr>\n",
       "      <th>3</th>\n",
       "      <td>02ae95de-7ee3-453a-978d-25d28b3f1a88</td>\n",
       "      <td>I never really understood why game environment...</td>\n",
       "      <td>M</td>\n",
       "      <td>25-34</td>\n",
       "    </tr>\n",
       "    <tr>\n",
       "      <th>4</th>\n",
       "      <td>02ae95de-7ee3-453a-978d-25d28b3f1a88</td>\n",
       "      <td>@username 20k and 2048² on a gun, fine. But th...</td>\n",
       "      <td>M</td>\n",
       "      <td>25-34</td>\n",
       "    </tr>\n",
       "    <tr>\n",
       "      <th>...</th>\n",
       "      <td>...</td>\n",
       "      <td>...</td>\n",
       "      <td>...</td>\n",
       "      <td>...</td>\n",
       "    </tr>\n",
       "    <tr>\n",
       "      <th>14161</th>\n",
       "      <td>fde8eb00-0444-4159-9b65-1ead60c2dc88</td>\n",
       "      <td>Fifty Writing Tools: Quick List | Poynter. htt...</td>\n",
       "      <td>F</td>\n",
       "      <td>25-34</td>\n",
       "    </tr>\n",
       "    <tr>\n",
       "      <th>14162</th>\n",
       "      <td>fde8eb00-0444-4159-9b65-1ead60c2dc88</td>\n",
       "      <td>Video: How To Make Vietnamese Coffee (by HighB...</td>\n",
       "      <td>F</td>\n",
       "      <td>25-34</td>\n",
       "    </tr>\n",
       "    <tr>\n",
       "      <th>14163</th>\n",
       "      <td>fde8eb00-0444-4159-9b65-1ead60c2dc88</td>\n",
       "      <td>lyx is soooo awesome!!! finally figured out ho...</td>\n",
       "      <td>F</td>\n",
       "      <td>25-34</td>\n",
       "    </tr>\n",
       "    <tr>\n",
       "      <th>14164</th>\n",
       "      <td>fde8eb00-0444-4159-9b65-1ead60c2dc88</td>\n",
       "      <td>Impact Algorithms: Strategies Remarkable Peopl...</td>\n",
       "      <td>F</td>\n",
       "      <td>25-34</td>\n",
       "    </tr>\n",
       "    <tr>\n",
       "      <th>14165</th>\n",
       "      <td>fde8eb00-0444-4159-9b65-1ead60c2dc88</td>\n",
       "      <td>Why You're Tired - Causes of Fatigue http://tu...</td>\n",
       "      <td>F</td>\n",
       "      <td>25-34</td>\n",
       "    </tr>\n",
       "  </tbody>\n",
       "</table>\n",
       "<p>14166 rows × 4 columns</p>\n",
       "</div>"
      ],
      "text/plain": [
       "                                     author  \\\n",
       "0      02ae95de-7ee3-453a-978d-25d28b3f1a88   \n",
       "1      02ae95de-7ee3-453a-978d-25d28b3f1a88   \n",
       "2      02ae95de-7ee3-453a-978d-25d28b3f1a88   \n",
       "3      02ae95de-7ee3-453a-978d-25d28b3f1a88   \n",
       "4      02ae95de-7ee3-453a-978d-25d28b3f1a88   \n",
       "...                                     ...   \n",
       "14161  fde8eb00-0444-4159-9b65-1ead60c2dc88   \n",
       "14162  fde8eb00-0444-4159-9b65-1ead60c2dc88   \n",
       "14163  fde8eb00-0444-4159-9b65-1ead60c2dc88   \n",
       "14164  fde8eb00-0444-4159-9b65-1ead60c2dc88   \n",
       "14165  fde8eb00-0444-4159-9b65-1ead60c2dc88   \n",
       "\n",
       "                                                    text gender    age  \n",
       "0      Things I want for my business cards but are to...      M  25-34  \n",
       "1      \"painters produced their most highly valued wo...      M  25-34  \n",
       "2      @username your new discussion layout is confus...      M  25-34  \n",
       "3      I never really understood why game environment...      M  25-34  \n",
       "4      @username 20k and 2048² on a gun, fine. But th...      M  25-34  \n",
       "...                                                  ...    ...    ...  \n",
       "14161  Fifty Writing Tools: Quick List | Poynter. htt...      F  25-34  \n",
       "14162  Video: How To Make Vietnamese Coffee (by HighB...      F  25-34  \n",
       "14163  lyx is soooo awesome!!! finally figured out ho...      F  25-34  \n",
       "14164  Impact Algorithms: Strategies Remarkable Peopl...      F  25-34  \n",
       "14165  Why You're Tired - Causes of Fatigue http://tu...      F  25-34  \n",
       "\n",
       "[14166 rows x 4 columns]"
      ]
     },
     "execution_count": 7,
     "metadata": {},
     "output_type": "execute_result"
    }
   ],
   "source": [
    "data_pan15"
   ]
  },
  {
   "cell_type": "markdown",
   "metadata": {},
   "source": [
    "## Statistics"
   ]
  },
  {
   "cell_type": "code",
   "execution_count": 8,
   "metadata": {},
   "outputs": [],
   "source": [
    "data_pan15_stats = pd.DataFrame()\n",
    "data_pan15_stats['total_word_count'] = data_pan15['text'].apply(lambda x: len(x.split()))\n",
    "data_pan15_stats['unique_word_count'] = data_pan15['text'].apply(lambda x: len(set(x.split())))\n",
    "data_pan15_stats['average_word_length'] = data_pan15['text'].apply(lambda x: np.mean([len(word) for word in x.split()]))\n",
    "data_pan15_stats['flesh_readability'] = data_pan15['text'].apply(textstat.flesch_reading_ease)"
   ]
  },
  {
   "cell_type": "code",
   "execution_count": 9,
   "metadata": {},
   "outputs": [
    {
     "name": "stderr",
     "output_type": "stream",
     "text": [
      "C:\\Users\\Sten\\AppData\\Local\\Temp\\ipykernel_13220\\2100109009.py:1: FutureWarning: In future versions `DataFrame.to_latex` is expected to utilise the base implementation of `Styler.to_latex` for formatting and rendering. The arguments signature may therefore change. It is recommended instead to use `DataFrame.style.to_latex` which also contains additional functionality.\n",
      "  data_pan15_stats.describe().T.round(3).to_latex( caption=\"PAN 15 AP task descriptive statistics\", label=\"tab:your_label\")\n"
     ]
    },
    {
     "data": {
      "text/plain": [
       "'\\\\begin{table}\\n\\\\centering\\n\\\\caption{PAN 15 AP task descriptive statistics}\\n\\\\label{tab:your_label}\\n\\\\begin{tabular}{lrrrrrrrr}\\n\\\\toprule\\n{} &    count &    mean &     std &      min &     25\\\\% &    50\\\\% &     75\\\\% &     max \\\\\\\\\\n\\\\midrule\\ntotal\\\\_word\\\\_count    &  14166.0 &  11.854 &   5.921 &     1.00 &   7.000 &  11.00 &  16.000 &   33.00 \\\\\\\\\\nunique\\\\_word\\\\_count   &  14166.0 &  11.305 &   5.481 &     1.00 &   7.000 &  11.00 &  15.000 &   30.00 \\\\\\\\\\naverage\\\\_word\\\\_length &  14166.0 &   5.925 &   2.133 &     1.00 &   4.529 &   5.60 &   6.889 &   90.00 \\\\\\\\\\nflesh\\\\_readability   &  14166.0 &  66.038 &  36.361 & -1147.79 &  49.480 &  72.16 &  89.040 &  121.22 \\\\\\\\\\n\\\\bottomrule\\n\\\\end{tabular}\\n\\\\end{table}\\n'"
      ]
     },
     "execution_count": 9,
     "metadata": {},
     "output_type": "execute_result"
    }
   ],
   "source": [
    "data_pan15_stats.describe().T.round(3).to_latex( caption=\"PAN 15 AP task descriptive statistics\", label=\"tab:your_label\")"
   ]
  },
  {
   "cell_type": "code",
   "execution_count": 10,
   "metadata": {},
   "outputs": [
    {
     "data": {
      "text/html": [
       "<div>\n",
       "<style scoped>\n",
       "    .dataframe tbody tr th:only-of-type {\n",
       "        vertical-align: middle;\n",
       "    }\n",
       "\n",
       "    .dataframe tbody tr th {\n",
       "        vertical-align: top;\n",
       "    }\n",
       "\n",
       "    .dataframe thead th {\n",
       "        text-align: right;\n",
       "    }\n",
       "</style>\n",
       "<table border=\"1\" class=\"dataframe\">\n",
       "  <thead>\n",
       "    <tr style=\"text-align: right;\">\n",
       "      <th></th>\n",
       "      <th>count</th>\n",
       "      <th>mean</th>\n",
       "      <th>std</th>\n",
       "      <th>min</th>\n",
       "      <th>25%</th>\n",
       "      <th>50%</th>\n",
       "      <th>75%</th>\n",
       "      <th>max</th>\n",
       "    </tr>\n",
       "  </thead>\n",
       "  <tbody>\n",
       "    <tr>\n",
       "      <th>total_word_count</th>\n",
       "      <td>14166.0</td>\n",
       "      <td>11.854</td>\n",
       "      <td>5.921</td>\n",
       "      <td>1.00</td>\n",
       "      <td>7.000</td>\n",
       "      <td>11.00</td>\n",
       "      <td>16.000</td>\n",
       "      <td>33.00</td>\n",
       "    </tr>\n",
       "    <tr>\n",
       "      <th>unique_word_count</th>\n",
       "      <td>14166.0</td>\n",
       "      <td>11.305</td>\n",
       "      <td>5.481</td>\n",
       "      <td>1.00</td>\n",
       "      <td>7.000</td>\n",
       "      <td>11.00</td>\n",
       "      <td>15.000</td>\n",
       "      <td>30.00</td>\n",
       "    </tr>\n",
       "    <tr>\n",
       "      <th>average_word_length</th>\n",
       "      <td>14166.0</td>\n",
       "      <td>5.925</td>\n",
       "      <td>2.133</td>\n",
       "      <td>1.00</td>\n",
       "      <td>4.529</td>\n",
       "      <td>5.60</td>\n",
       "      <td>6.889</td>\n",
       "      <td>90.00</td>\n",
       "    </tr>\n",
       "    <tr>\n",
       "      <th>flesh_readability</th>\n",
       "      <td>14166.0</td>\n",
       "      <td>66.038</td>\n",
       "      <td>36.361</td>\n",
       "      <td>-1147.79</td>\n",
       "      <td>49.480</td>\n",
       "      <td>72.16</td>\n",
       "      <td>89.040</td>\n",
       "      <td>121.22</td>\n",
       "    </tr>\n",
       "  </tbody>\n",
       "</table>\n",
       "</div>"
      ],
      "text/plain": [
       "                       count    mean     std      min     25%    50%     75%  \\\n",
       "total_word_count     14166.0  11.854   5.921     1.00   7.000  11.00  16.000   \n",
       "unique_word_count    14166.0  11.305   5.481     1.00   7.000  11.00  15.000   \n",
       "average_word_length  14166.0   5.925   2.133     1.00   4.529   5.60   6.889   \n",
       "flesh_readability    14166.0  66.038  36.361 -1147.79  49.480  72.16  89.040   \n",
       "\n",
       "                        max  \n",
       "total_word_count      33.00  \n",
       "unique_word_count     30.00  \n",
       "average_word_length   90.00  \n",
       "flesh_readability    121.22  "
      ]
     },
     "execution_count": 10,
     "metadata": {},
     "output_type": "execute_result"
    }
   ],
   "source": [
    "data_pan15_stats.describe().T.round(3)"
   ]
  },
  {
   "cell_type": "code",
   "execution_count": 11,
   "metadata": {},
   "outputs": [
    {
     "data": {
      "text/plain": [
       "F    7180\n",
       "M    6986\n",
       "Name: gender, dtype: int64"
      ]
     },
     "execution_count": 11,
     "metadata": {},
     "output_type": "execute_result"
    }
   ],
   "source": [
    "data_pan15['gender'].value_counts()"
   ]
  },
  {
   "cell_type": "code",
   "execution_count": 12,
   "metadata": {},
   "outputs": [
    {
     "data": {
      "text/plain": [
       "M    76\n",
       "F    76\n",
       "Name: gender, dtype: int64"
      ]
     },
     "execution_count": 12,
     "metadata": {},
     "output_type": "execute_result"
    }
   ],
   "source": [
    "truth_pan15['gender'].value_counts()"
   ]
  },
  {
   "cell_type": "code",
   "execution_count": 13,
   "metadata": {},
   "outputs": [
    {
     "data": {
      "text/plain": [
       "25-34    5624\n",
       "18-24    5588\n",
       "35-49    1865\n",
       "50-XX    1089\n",
       "Name: age, dtype: int64"
      ]
     },
     "execution_count": 13,
     "metadata": {},
     "output_type": "execute_result"
    }
   ],
   "source": [
    "data_pan15['age'].value_counts()"
   ]
  },
  {
   "cell_type": "code",
   "execution_count": 14,
   "metadata": {},
   "outputs": [
    {
     "data": {
      "text/plain": [
       "25-34    60\n",
       "18-24    58\n",
       "35-49    22\n",
       "50-XX    12\n",
       "Name: age, dtype: int64"
      ]
     },
     "execution_count": 14,
     "metadata": {},
     "output_type": "execute_result"
    }
   ],
   "source": [
    "truth_pan15['age'].value_counts()"
   ]
  },
  {
   "cell_type": "markdown",
   "metadata": {},
   "source": [
    "## Loading test dataset"
   ]
  },
  {
   "cell_type": "code",
   "execution_count": 15,
   "metadata": {},
   "outputs": [],
   "source": [
    "items_test = os.listdir(r'C:\\Users\\Sten\\Documents\\EUR BIM\\thesis\\data\\PAN 15\\test_data\\pan15-author-profiling-test-dataset2-english-2015-04-23')\n",
    "documents_test = [item for item in items_test if item.endswith('.xml')]"
   ]
  },
  {
   "cell_type": "code",
   "execution_count": 16,
   "metadata": {},
   "outputs": [],
   "source": [
    "data_pan15_test = pd.DataFrame(columns=['author', 'text'])\n",
    "\n",
    "for file in documents_test:\n",
    "    xtree = et.parse(r'C:\\Users\\Sten\\Documents\\EUR BIM\\thesis\\data\\PAN 15\\test_data\\pan15-author-profiling-test-dataset2-english-2015-04-23' + \"\\\\\" + file)\n",
    "    xroot = xtree.getroot()\n",
    "    documents_texts = [html.unescape(doc.text) for doc in xroot.findall(\".//document\")]\n",
    "    temp_frame = pd.DataFrame(documents_texts, columns=['text'])\n",
    "    temp_frame['author'] = file.replace('.xml', '')\n",
    "    data_pan15_test = pd.concat([data_pan15_test, temp_frame], axis=0).reset_index(drop=True)    "
   ]
  },
  {
   "cell_type": "code",
   "execution_count": 17,
   "metadata": {},
   "outputs": [],
   "source": [
    "truth_pan15_test = pd.read_csv(r'C:\\Users\\Sten\\Documents\\EUR BIM\\thesis\\data\\PAN 15\\test_data\\pan15-author-profiling-test-dataset2-english-2015-04-23\\truth.txt',\n",
    "                          delimiter=':::', engine='python', header=None)\n",
    "truth_pan15_test.columns = ['author', 'gender', 'age', 'extroverted', 'stable', 'agreeable', 'conscientious', 'open']"
   ]
  },
  {
   "cell_type": "code",
   "execution_count": 18,
   "metadata": {},
   "outputs": [],
   "source": [
    "data_pan15_test = pd.merge(data_pan15_test, truth_pan15_test[['author', 'gender', 'age']], on='author', how='left')"
   ]
  },
  {
   "cell_type": "markdown",
   "metadata": {},
   "source": [
    "## Creating data files"
   ]
  },
  {
   "cell_type": "code",
   "execution_count": 19,
   "metadata": {},
   "outputs": [
    {
     "data": {
      "text/html": [
       "<div>\n",
       "<style scoped>\n",
       "    .dataframe tbody tr th:only-of-type {\n",
       "        vertical-align: middle;\n",
       "    }\n",
       "\n",
       "    .dataframe tbody tr th {\n",
       "        vertical-align: top;\n",
       "    }\n",
       "\n",
       "    .dataframe thead th {\n",
       "        text-align: right;\n",
       "    }\n",
       "</style>\n",
       "<table border=\"1\" class=\"dataframe\">\n",
       "  <thead>\n",
       "    <tr style=\"text-align: right;\">\n",
       "      <th></th>\n",
       "      <th>author</th>\n",
       "      <th>text</th>\n",
       "      <th>gender</th>\n",
       "      <th>age</th>\n",
       "    </tr>\n",
       "  </thead>\n",
       "  <tbody>\n",
       "    <tr>\n",
       "      <th>0</th>\n",
       "      <td>02ae95de-7ee3-453a-978d-25d28b3f1a88</td>\n",
       "      <td>Things I want for my business cards but are to...</td>\n",
       "      <td>M</td>\n",
       "      <td>25-34</td>\n",
       "    </tr>\n",
       "    <tr>\n",
       "      <th>1</th>\n",
       "      <td>02ae95de-7ee3-453a-978d-25d28b3f1a88</td>\n",
       "      <td>\"painters produced their most highly valued wo...</td>\n",
       "      <td>M</td>\n",
       "      <td>25-34</td>\n",
       "    </tr>\n",
       "    <tr>\n",
       "      <th>2</th>\n",
       "      <td>02ae95de-7ee3-453a-978d-25d28b3f1a88</td>\n",
       "      <td>@username your new discussion layout is confus...</td>\n",
       "      <td>M</td>\n",
       "      <td>25-34</td>\n",
       "    </tr>\n",
       "    <tr>\n",
       "      <th>3</th>\n",
       "      <td>02ae95de-7ee3-453a-978d-25d28b3f1a88</td>\n",
       "      <td>I never really understood why game environment...</td>\n",
       "      <td>M</td>\n",
       "      <td>25-34</td>\n",
       "    </tr>\n",
       "    <tr>\n",
       "      <th>4</th>\n",
       "      <td>02ae95de-7ee3-453a-978d-25d28b3f1a88</td>\n",
       "      <td>@username 20k and 2048² on a gun, fine. But th...</td>\n",
       "      <td>M</td>\n",
       "      <td>25-34</td>\n",
       "    </tr>\n",
       "    <tr>\n",
       "      <th>...</th>\n",
       "      <td>...</td>\n",
       "      <td>...</td>\n",
       "      <td>...</td>\n",
       "      <td>...</td>\n",
       "    </tr>\n",
       "    <tr>\n",
       "      <th>14161</th>\n",
       "      <td>fde8eb00-0444-4159-9b65-1ead60c2dc88</td>\n",
       "      <td>Fifty Writing Tools: Quick List | Poynter. htt...</td>\n",
       "      <td>F</td>\n",
       "      <td>25-34</td>\n",
       "    </tr>\n",
       "    <tr>\n",
       "      <th>14162</th>\n",
       "      <td>fde8eb00-0444-4159-9b65-1ead60c2dc88</td>\n",
       "      <td>Video: How To Make Vietnamese Coffee (by HighB...</td>\n",
       "      <td>F</td>\n",
       "      <td>25-34</td>\n",
       "    </tr>\n",
       "    <tr>\n",
       "      <th>14163</th>\n",
       "      <td>fde8eb00-0444-4159-9b65-1ead60c2dc88</td>\n",
       "      <td>lyx is soooo awesome!!! finally figured out ho...</td>\n",
       "      <td>F</td>\n",
       "      <td>25-34</td>\n",
       "    </tr>\n",
       "    <tr>\n",
       "      <th>14164</th>\n",
       "      <td>fde8eb00-0444-4159-9b65-1ead60c2dc88</td>\n",
       "      <td>Impact Algorithms: Strategies Remarkable Peopl...</td>\n",
       "      <td>F</td>\n",
       "      <td>25-34</td>\n",
       "    </tr>\n",
       "    <tr>\n",
       "      <th>14165</th>\n",
       "      <td>fde8eb00-0444-4159-9b65-1ead60c2dc88</td>\n",
       "      <td>Why You're Tired - Causes of Fatigue http://tu...</td>\n",
       "      <td>F</td>\n",
       "      <td>25-34</td>\n",
       "    </tr>\n",
       "  </tbody>\n",
       "</table>\n",
       "<p>14166 rows × 4 columns</p>\n",
       "</div>"
      ],
      "text/plain": [
       "                                     author  \\\n",
       "0      02ae95de-7ee3-453a-978d-25d28b3f1a88   \n",
       "1      02ae95de-7ee3-453a-978d-25d28b3f1a88   \n",
       "2      02ae95de-7ee3-453a-978d-25d28b3f1a88   \n",
       "3      02ae95de-7ee3-453a-978d-25d28b3f1a88   \n",
       "4      02ae95de-7ee3-453a-978d-25d28b3f1a88   \n",
       "...                                     ...   \n",
       "14161  fde8eb00-0444-4159-9b65-1ead60c2dc88   \n",
       "14162  fde8eb00-0444-4159-9b65-1ead60c2dc88   \n",
       "14163  fde8eb00-0444-4159-9b65-1ead60c2dc88   \n",
       "14164  fde8eb00-0444-4159-9b65-1ead60c2dc88   \n",
       "14165  fde8eb00-0444-4159-9b65-1ead60c2dc88   \n",
       "\n",
       "                                                    text gender    age  \n",
       "0      Things I want for my business cards but are to...      M  25-34  \n",
       "1      \"painters produced their most highly valued wo...      M  25-34  \n",
       "2      @username your new discussion layout is confus...      M  25-34  \n",
       "3      I never really understood why game environment...      M  25-34  \n",
       "4      @username 20k and 2048² on a gun, fine. But th...      M  25-34  \n",
       "...                                                  ...    ...    ...  \n",
       "14161  Fifty Writing Tools: Quick List | Poynter. htt...      F  25-34  \n",
       "14162  Video: How To Make Vietnamese Coffee (by HighB...      F  25-34  \n",
       "14163  lyx is soooo awesome!!! finally figured out ho...      F  25-34  \n",
       "14164  Impact Algorithms: Strategies Remarkable Peopl...      F  25-34  \n",
       "14165  Why You're Tired - Causes of Fatigue http://tu...      F  25-34  \n",
       "\n",
       "[14166 rows x 4 columns]"
      ]
     },
     "execution_count": 19,
     "metadata": {},
     "output_type": "execute_result"
    }
   ],
   "source": [
    "data_pan15"
   ]
  },
  {
   "cell_type": "code",
   "execution_count": 20,
   "metadata": {},
   "outputs": [],
   "source": [
    "data_pan15.to_csv('data\\PAN_15_training.csv')"
   ]
  },
  {
   "cell_type": "code",
   "execution_count": 21,
   "metadata": {},
   "outputs": [],
   "source": [
    "data_pan15_test.to_csv('data\\PAN_15_test.csv')"
   ]
  }
 ],
 "metadata": {
  "kernelspec": {
   "display_name": "Python 3",
   "language": "python",
   "name": "python3"
  },
  "language_info": {
   "codemirror_mode": {
    "name": "ipython",
    "version": 3
   },
   "file_extension": ".py",
   "mimetype": "text/x-python",
   "name": "python",
   "nbconvert_exporter": "python",
   "pygments_lexer": "ipython3",
   "version": "3.9.16"
  }
 },
 "nbformat": 4,
 "nbformat_minor": 2
}
