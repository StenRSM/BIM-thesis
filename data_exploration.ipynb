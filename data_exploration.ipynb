{
 "cells": [
  {
   "cell_type": "markdown",
   "metadata": {},
   "source": [
    "# Exploring data files"
   ]
  },
  {
   "cell_type": "code",
   "execution_count": 39,
   "metadata": {},
   "outputs": [],
   "source": [
    "import pandas as pd\n",
    "import xml.etree.ElementTree as et\n",
    "import html\n",
    "import os"
   ]
  },
  {
   "cell_type": "code",
   "execution_count": 56,
   "metadata": {},
   "outputs": [],
   "source": [
    "items = os.listdir(r\"C:\\Users\\Sten\\Documents\\EUR BIM\\thesis\\data\\PAN 15\\pan15-author-profiling-training-dataset-2015-04-23\\pan15-author-profiling-training-dataset-english-2015-04-23\")\n",
    "documents = [item for item in items if item.endswith('.xml')]"
   ]
  },
  {
   "cell_type": "code",
   "execution_count": 107,
   "metadata": {},
   "outputs": [],
   "source": [
    "data_pan15 = pd.DataFrame(columns=['author', 'text'])"
   ]
  },
  {
   "cell_type": "code",
   "execution_count": 108,
   "metadata": {},
   "outputs": [],
   "source": [
    "for file in documents:\n",
    "    xtree = et.parse(r\"C:\\Users\\Sten\\Documents\\EUR BIM\\thesis\\data\\PAN 15\\pan15-author-profiling-training-dataset-2015-04-23\\pan15-author-profiling-training-dataset-english-2015-04-23\" + \"\\\\\" + file)\n",
    "    xroot = xtree.getroot()\n",
    "    documents_texts = [html.unescape(doc.text) for doc in xroot.findall(\".//document\")]\n",
    "    temp_frame = pd.DataFrame(documents_texts, columns=['text'])\n",
    "    temp_frame['author'] = file.replace('.xml', '')\n",
    "    data_pan15 = pd.concat([data_pan15, temp_frame], axis=0).reset_index(drop=True)    "
   ]
  },
  {
   "cell_type": "code",
   "execution_count": 109,
   "metadata": {},
   "outputs": [],
   "source": [
    "truth_pan15 = pd.read_csv(r'C:\\Users\\Sten\\Documents\\EUR BIM\\thesis\\data\\PAN 15\\pan15-author-profiling-training-dataset-2015-04-23\\pan15-author-profiling-training-dataset-english-2015-04-23\\truth.txt',\n",
    "                          delimiter=':::', engine='python', header=None)\n",
    "truth_pan15.columns = ['author', 'gender', 'age', 3, 4, 5, 6, 7]"
   ]
  },
  {
   "cell_type": "code",
   "execution_count": 110,
   "metadata": {},
   "outputs": [],
   "source": [
    "data_pan15 = pd.merge(data_pan15, truth_pan15[['author', 'gender', 'age']], on='author', how='left')"
   ]
  },
  {
   "cell_type": "code",
   "execution_count": 111,
   "metadata": {},
   "outputs": [
    {
     "data": {
      "text/html": [
       "<div>\n",
       "<style scoped>\n",
       "    .dataframe tbody tr th:only-of-type {\n",
       "        vertical-align: middle;\n",
       "    }\n",
       "\n",
       "    .dataframe tbody tr th {\n",
       "        vertical-align: top;\n",
       "    }\n",
       "\n",
       "    .dataframe thead th {\n",
       "        text-align: right;\n",
       "    }\n",
       "</style>\n",
       "<table border=\"1\" class=\"dataframe\">\n",
       "  <thead>\n",
       "    <tr style=\"text-align: right;\">\n",
       "      <th></th>\n",
       "      <th>author</th>\n",
       "      <th>text</th>\n",
       "      <th>gender</th>\n",
       "      <th>age</th>\n",
       "    </tr>\n",
       "  </thead>\n",
       "  <tbody>\n",
       "    <tr>\n",
       "      <th>0</th>\n",
       "      <td>02ae95de-7ee3-453a-978d-25d28b3f1a88</td>\n",
       "      <td>Things I want for my business cards but are to...</td>\n",
       "      <td>M</td>\n",
       "      <td>25-34</td>\n",
       "    </tr>\n",
       "    <tr>\n",
       "      <th>1</th>\n",
       "      <td>02ae95de-7ee3-453a-978d-25d28b3f1a88</td>\n",
       "      <td>\"painters produced their most highly valued wo...</td>\n",
       "      <td>M</td>\n",
       "      <td>25-34</td>\n",
       "    </tr>\n",
       "    <tr>\n",
       "      <th>2</th>\n",
       "      <td>02ae95de-7ee3-453a-978d-25d28b3f1a88</td>\n",
       "      <td>@username your new discussion layout is confus...</td>\n",
       "      <td>M</td>\n",
       "      <td>25-34</td>\n",
       "    </tr>\n",
       "    <tr>\n",
       "      <th>3</th>\n",
       "      <td>02ae95de-7ee3-453a-978d-25d28b3f1a88</td>\n",
       "      <td>I never really understood why game environment...</td>\n",
       "      <td>M</td>\n",
       "      <td>25-34</td>\n",
       "    </tr>\n",
       "    <tr>\n",
       "      <th>4</th>\n",
       "      <td>02ae95de-7ee3-453a-978d-25d28b3f1a88</td>\n",
       "      <td>@username 20k and 2048² on a gun, fine. But th...</td>\n",
       "      <td>M</td>\n",
       "      <td>25-34</td>\n",
       "    </tr>\n",
       "    <tr>\n",
       "      <th>...</th>\n",
       "      <td>...</td>\n",
       "      <td>...</td>\n",
       "      <td>...</td>\n",
       "      <td>...</td>\n",
       "    </tr>\n",
       "    <tr>\n",
       "      <th>14161</th>\n",
       "      <td>fde8eb00-0444-4159-9b65-1ead60c2dc88</td>\n",
       "      <td>Fifty Writing Tools: Quick List | Poynter. htt...</td>\n",
       "      <td>F</td>\n",
       "      <td>25-34</td>\n",
       "    </tr>\n",
       "    <tr>\n",
       "      <th>14162</th>\n",
       "      <td>fde8eb00-0444-4159-9b65-1ead60c2dc88</td>\n",
       "      <td>Video: How To Make Vietnamese Coffee (by HighB...</td>\n",
       "      <td>F</td>\n",
       "      <td>25-34</td>\n",
       "    </tr>\n",
       "    <tr>\n",
       "      <th>14163</th>\n",
       "      <td>fde8eb00-0444-4159-9b65-1ead60c2dc88</td>\n",
       "      <td>lyx is soooo awesome!!! finally figured out ho...</td>\n",
       "      <td>F</td>\n",
       "      <td>25-34</td>\n",
       "    </tr>\n",
       "    <tr>\n",
       "      <th>14164</th>\n",
       "      <td>fde8eb00-0444-4159-9b65-1ead60c2dc88</td>\n",
       "      <td>Impact Algorithms: Strategies Remarkable Peopl...</td>\n",
       "      <td>F</td>\n",
       "      <td>25-34</td>\n",
       "    </tr>\n",
       "    <tr>\n",
       "      <th>14165</th>\n",
       "      <td>fde8eb00-0444-4159-9b65-1ead60c2dc88</td>\n",
       "      <td>Why You're Tired - Causes of Fatigue http://tu...</td>\n",
       "      <td>F</td>\n",
       "      <td>25-34</td>\n",
       "    </tr>\n",
       "  </tbody>\n",
       "</table>\n",
       "<p>14166 rows × 4 columns</p>\n",
       "</div>"
      ],
      "text/plain": [
       "                                     author  \\\n",
       "0      02ae95de-7ee3-453a-978d-25d28b3f1a88   \n",
       "1      02ae95de-7ee3-453a-978d-25d28b3f1a88   \n",
       "2      02ae95de-7ee3-453a-978d-25d28b3f1a88   \n",
       "3      02ae95de-7ee3-453a-978d-25d28b3f1a88   \n",
       "4      02ae95de-7ee3-453a-978d-25d28b3f1a88   \n",
       "...                                     ...   \n",
       "14161  fde8eb00-0444-4159-9b65-1ead60c2dc88   \n",
       "14162  fde8eb00-0444-4159-9b65-1ead60c2dc88   \n",
       "14163  fde8eb00-0444-4159-9b65-1ead60c2dc88   \n",
       "14164  fde8eb00-0444-4159-9b65-1ead60c2dc88   \n",
       "14165  fde8eb00-0444-4159-9b65-1ead60c2dc88   \n",
       "\n",
       "                                                    text gender    age  \n",
       "0      Things I want for my business cards but are to...      M  25-34  \n",
       "1      \"painters produced their most highly valued wo...      M  25-34  \n",
       "2      @username your new discussion layout is confus...      M  25-34  \n",
       "3      I never really understood why game environment...      M  25-34  \n",
       "4      @username 20k and 2048² on a gun, fine. But th...      M  25-34  \n",
       "...                                                  ...    ...    ...  \n",
       "14161  Fifty Writing Tools: Quick List | Poynter. htt...      F  25-34  \n",
       "14162  Video: How To Make Vietnamese Coffee (by HighB...      F  25-34  \n",
       "14163  lyx is soooo awesome!!! finally figured out ho...      F  25-34  \n",
       "14164  Impact Algorithms: Strategies Remarkable Peopl...      F  25-34  \n",
       "14165  Why You're Tired - Causes of Fatigue http://tu...      F  25-34  \n",
       "\n",
       "[14166 rows x 4 columns]"
      ]
     },
     "execution_count": 111,
     "metadata": {},
     "output_type": "execute_result"
    }
   ],
   "source": [
    "data_pan15"
   ]
  }
 ],
 "metadata": {
  "kernelspec": {
   "display_name": "Python 3",
   "language": "python",
   "name": "python3"
  },
  "language_info": {
   "codemirror_mode": {
    "name": "ipython",
    "version": 3
   },
   "file_extension": ".py",
   "mimetype": "text/x-python",
   "name": "python",
   "nbconvert_exporter": "python",
   "pygments_lexer": "ipython3",
   "version": "3.9.16"
  }
 },
 "nbformat": 4,
 "nbformat_minor": 2
}
